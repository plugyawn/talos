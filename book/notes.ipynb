{
 "cells": [
  {
   "cell_type": "markdown",
   "id": "3c96ecd0",
   "metadata": {},
   "source": [
    "In context learning >> finetuning >> RL?"
   ]
  },
  {
   "cell_type": "markdown",
   "id": "22229862",
   "metadata": {},
   "source": []
  }
 ],
 "metadata": {
  "language_info": {
   "name": "python"
  }
 },
 "nbformat": 4,
 "nbformat_minor": 5
}
